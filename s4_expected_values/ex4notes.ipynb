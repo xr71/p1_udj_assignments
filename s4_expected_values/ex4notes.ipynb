{
  "cells": [
    {
      "metadata": {
        "trusted": true
      },
      "cell_type": "code",
      "source": "import pandas as pd\nimport math\nimport matplotlib.pyplot as plt\n\nimport numpy as np\nimport scipy.stats as ss",
      "execution_count": 7,
      "outputs": []
    },
    {
      "metadata": {},
      "cell_type": "markdown",
      "source": "### A"
    },
    {
      "metadata": {},
      "cell_type": "markdown",
      "source": "Risk and return are two fundamental concepts for evaluating securities. The expected return gives a  measure  of  the  (long-run) average  return  for  the  security,   and  the  standard  deviation  of  the  return provides a measure of the \"riskiness\" of the security. In general, we find that the higher the expected return for a security the greater the standard deviation for that security.  \n  \n  \nThe  same  concepts  are  useful  for  evaluating  portfolios  of  securities.  To  better  understand  the  effects of diversification, consider the following questions:   \n  \n  \nSuppose you are considering a portfolio of two securities: Microsoft stock and Intel stock. Let r1be  the  return  on  Microsoft  stock  per  USD  invested  and  r2  be  the  return  on  Intel  stock  per  USDinvested.  Using  historical  annual  returns,  you  find  that  for  r1  the  mean  is  1.1  and  the  standard  deviation is 0.1. Similarly, r2 has a mean of 1.1 and a standard deviation of 0.1 (identical to the return on Microsoft stock). "
    },
    {
      "metadata": {
        "trusted": true
      },
      "cell_type": "code",
      "source": ".1**2 * 5000**2",
      "execution_count": 4,
      "outputs": [
        {
          "output_type": "execute_result",
          "execution_count": 4,
          "data": {
            "text/plain": "250000.00000000006"
          },
          "metadata": {}
        }
      ]
    },
    {
      "metadata": {
        "trusted": true
      },
      "cell_type": "code",
      "source": "math.sqrt(.1**2 * 5000**2)",
      "execution_count": 5,
      "outputs": [
        {
          "output_type": "execute_result",
          "execution_count": 5,
          "data": {
            "text/plain": "500.00000000000006"
          },
          "metadata": {}
        }
      ]
    },
    {
      "metadata": {
        "trusted": true
      },
      "cell_type": "code",
      "source": "u = -5000 + 5000*1.1\nprint(u)",
      "execution_count": 6,
      "outputs": [
        {
          "output_type": "stream",
          "text": "500.0\n",
          "name": "stdout"
        }
      ]
    },
    {
      "metadata": {
        "trusted": true
      },
      "cell_type": "code",
      "source": "ss.norm(500, 500)",
      "execution_count": 8,
      "outputs": [
        {
          "output_type": "execute_result",
          "execution_count": 8,
          "data": {
            "text/plain": "<scipy.stats._distn_infrastructure.rv_frozen at 0x7fa819481e48>"
          },
          "metadata": {}
        }
      ]
    },
    {
      "metadata": {
        "trusted": true
      },
      "cell_type": "code",
      "source": "rvs = ss.norm(500, 500)\nxvals = np.linspace(-1500, 2500, 3000)\nplt.plot(xvals, rvs.pdf(xvals))\nplt.vlines(500, 0, 1.1*max(rvs.pdf(xvals)))",
      "execution_count": 20,
      "outputs": [
        {
          "output_type": "execute_result",
          "execution_count": 20,
          "data": {
            "text/plain": "<matplotlib.collections.LineCollection at 0x7fa81886b4e0>"
          },
          "metadata": {}
        },
        {
          "output_type": "display_data",
          "data": {
            "image/png": "[encoded data removed]",
            "text/plain": "<Figure size 432x288 with 1 Axes>"
          },
          "metadata": {
            "needs_background": "light"
          }
        }
      ]
    },
    {
      "metadata": {},
      "cell_type": "markdown",
      "source": "### B"
    },
    {
      "metadata": {},
      "cell_type": "markdown",
      "source": "You  decide  to  invest  USD  2,500  in  Microsoft  stock  and  USD  2,500  in  Intel  stock,  assuming  that  the  correlation  between  r1  and r2  is  0  (the  return  on  the  two  stocks  are  statistically independent).  Note that the net profit here would be:  P = 2500r1 + 2500r2-5000."
    },
    {
      "metadata": {
        "trusted": true
      },
      "cell_type": "code",
      "source": "b_msft = 2500\nc_intc = 2500\ncorr = 0 \n\nu = -5000 + 1.1*b_msft + 1.1*c_intc\nprint(u)",
      "execution_count": 21,
      "outputs": [
        {
          "output_type": "stream",
          "text": "500.0\n",
          "name": "stdout"
        }
      ]
    },
    {
      "metadata": {},
      "cell_type": "markdown",
      "source": "$$\n  Var(W) = b_m^2Var(X) + c_i^2(Y) + 2*b_m*c_i*Corr(X,Y)\n$$"
    },
    {
      "metadata": {
        "trusted": true
      },
      "cell_type": "code",
      "source": "b_msft**2 * 0.1**2 + c_intc**2 * 0.1**2",
      "execution_count": 22,
      "outputs": [
        {
          "output_type": "execute_result",
          "execution_count": 22,
          "data": {
            "text/plain": "125000.00000000003"
          },
          "metadata": {}
        }
      ]
    },
    {
      "metadata": {
        "trusted": true
      },
      "cell_type": "code",
      "source": "math.sqrt(b_msft**2 * 0.1**2 + c_intc**2 * 0.1**2)",
      "execution_count": 23,
      "outputs": [
        {
          "output_type": "execute_result",
          "execution_count": 23,
          "data": {
            "text/plain": "353.5533905932738"
          },
          "metadata": {}
        }
      ]
    },
    {
      "metadata": {},
      "cell_type": "markdown",
      "source": "### C"
    },
    {
      "metadata": {},
      "cell_type": "markdown",
      "source": "You  decide  to  invest  USD  2,500  in  Microsoft  stock  and  USD  2,500  in  Intel  stock,  assuming that the correlation between r1 and r2 is 0.6 (the returns on the two stocks are positively correlated, i.e., increases in the return on one stock tend to go  together  with increases in the other stock)."
    },
    {
      "metadata": {
        "trusted": true
      },
      "cell_type": "code",
      "source": "corr = 0.6\n# everything else is the same\ncov = corr * 0.1 * 0.1\ncov",
      "execution_count": 30,
      "outputs": [
        {
          "output_type": "execute_result",
          "execution_count": 30,
          "data": {
            "text/plain": "0.006"
          },
          "metadata": {}
        }
      ]
    },
    {
      "metadata": {
        "trusted": true
      },
      "cell_type": "code",
      "source": "(b_msft**2 * 0.1**2) + (c_intc**2 * 0.1**2) + (2*b_msft*c_intc*cov)",
      "execution_count": 32,
      "outputs": [
        {
          "output_type": "execute_result",
          "execution_count": 32,
          "data": {
            "text/plain": "200000.00000000003"
          },
          "metadata": {}
        }
      ]
    },
    {
      "metadata": {
        "trusted": true
      },
      "cell_type": "code",
      "source": "math.sqrt(b_msft**2 * 0.1**2 + c_intc**2 * 0.1**2 + 2*b_msft*c_intc*cov)",
      "execution_count": 31,
      "outputs": [
        {
          "output_type": "execute_result",
          "execution_count": 31,
          "data": {
            "text/plain": "447.213595499958"
          },
          "metadata": {}
        }
      ]
    },
    {
      "metadata": {},
      "cell_type": "markdown",
      "source": "### D"
    },
    {
      "metadata": {},
      "cell_type": "markdown",
      "source": "You  decide  to  invest  USD  2,500  in  Microsoft  stock  and  USD  2,500  in  Intel  stock,  assuming that the correlation between r1 and r2 is -0.6 (the returns on the two stocks are negatively correlated, i.e., increases in the return on one stock tend to go together with decreases in the other stock)."
    },
    {
      "metadata": {
        "trusted": true
      },
      "cell_type": "code",
      "source": "corr = -0.6\n# everything else the same\ncov = corr * 0.1 * 0.1\ncov",
      "execution_count": 33,
      "outputs": [
        {
          "output_type": "execute_result",
          "execution_count": 33,
          "data": {
            "text/plain": "-0.006"
          },
          "metadata": {}
        }
      ]
    },
    {
      "metadata": {
        "trusted": true
      },
      "cell_type": "code",
      "source": "(b_msft**2 * 0.1**2) + (c_intc**2 * 0.1**2) + (2*b_msft*c_intc*cov)",
      "execution_count": 34,
      "outputs": [
        {
          "output_type": "execute_result",
          "execution_count": 34,
          "data": {
            "text/plain": "50000.00000000003"
          },
          "metadata": {}
        }
      ]
    },
    {
      "metadata": {
        "trusted": true
      },
      "cell_type": "code",
      "source": "math.sqrt(b_msft**2 * 0.1**2 + c_intc**2 * 0.1**2 + 2*b_msft*c_intc*cov)",
      "execution_count": 35,
      "outputs": [
        {
          "output_type": "execute_result",
          "execution_count": 35,
          "data": {
            "text/plain": "223.60679774997902"
          },
          "metadata": {}
        }
      ]
    },
    {
      "metadata": {},
      "cell_type": "markdown",
      "source": "### E"
    },
    {
      "metadata": {},
      "cell_type": "markdown",
      "source": "You  decide  to  invest  USD  2,500  in  Microsoft  stock  and  USD  2,500  in  Intel  stock,  assuming that the correlation between r1 and r2 is  1 (the returns on the two stocks are\nperfectly and positively correlated, i.e., increases in the return on one stock are matched by proportional increases in the return on the other stock). "
    },
    {
      "metadata": {
        "trusted": true
      },
      "cell_type": "code",
      "source": "corr = 1\ncov = corr * 0.1 * 0.1\ncov",
      "execution_count": 36,
      "outputs": [
        {
          "output_type": "execute_result",
          "execution_count": 36,
          "data": {
            "text/plain": "0.010000000000000002"
          },
          "metadata": {}
        }
      ]
    },
    {
      "metadata": {
        "trusted": true
      },
      "cell_type": "code",
      "source": "(b_msft**2 * 0.1**2) + (c_intc**2 * 0.1**2) + (2*b_msft*c_intc*cov)",
      "execution_count": 37,
      "outputs": [
        {
          "output_type": "execute_result",
          "execution_count": 37,
          "data": {
            "text/plain": "250000.00000000006"
          },
          "metadata": {}
        }
      ]
    },
    {
      "metadata": {
        "trusted": true
      },
      "cell_type": "code",
      "source": "math.sqrt(b_msft**2 * 0.1**2 + c_intc**2 * 0.1**2 + 2*b_msft*c_intc*cov)",
      "execution_count": 38,
      "outputs": [
        {
          "output_type": "execute_result",
          "execution_count": 38,
          "data": {
            "text/plain": "500.00000000000006"
          },
          "metadata": {}
        }
      ]
    },
    {
      "metadata": {},
      "cell_type": "markdown",
      "source": "### F"
    },
    {
      "metadata": {},
      "cell_type": "markdown",
      "source": "You  decide  to  invest  USD  2,500  in  Microsoft  stock  and  USD  2,500  in  Intel  stock,  assuming that the correlation between r1 and r2 is  -1   (the returns on the two stocks are perfectly  and  negatively  correlated,  i.e.,  increases  in  the  return  on  one  stock  are  matched by proportional decreases in the return on the other stock)."
    },
    {
      "metadata": {
        "trusted": true
      },
      "cell_type": "code",
      "source": "corr = -1\ncov = corr * 0.1 * 0.1\ncov",
      "execution_count": 39,
      "outputs": [
        {
          "output_type": "execute_result",
          "execution_count": 39,
          "data": {
            "text/plain": "-0.010000000000000002"
          },
          "metadata": {}
        }
      ]
    },
    {
      "metadata": {
        "trusted": true
      },
      "cell_type": "code",
      "source": "(b_msft**2 * 0.1**2) + (c_intc**2 * 0.1**2) + (2*b_msft*c_intc*cov)",
      "execution_count": 40,
      "outputs": [
        {
          "output_type": "execute_result",
          "execution_count": 40,
          "data": {
            "text/plain": "0.0"
          },
          "metadata": {}
        }
      ]
    },
    {
      "metadata": {
        "trusted": true
      },
      "cell_type": "code",
      "source": "math.sqrt(b_msft**2 * 0.1**2 + c_intc**2 * 0.1**2 + 2*b_msft*c_intc*cov)",
      "execution_count": 41,
      "outputs": [
        {
          "output_type": "execute_result",
          "execution_count": 41,
          "data": {
            "text/plain": "0.0"
          },
          "metadata": {}
        }
      ]
    },
    {
      "metadata": {},
      "cell_type": "markdown",
      "source": "# The comparison histograms"
    },
    {
      "metadata": {
        "trusted": true
      },
      "cell_type": "code",
      "source": "sd_a = 500\nsd_b = 353.5533905932738\nsd_c = 447.213595499958\nsd_d = 223.60679774997902\nsd_e = 500.00000000000006\nsd_f = 0",
      "execution_count": 43,
      "outputs": []
    },
    {
      "metadata": {
        "trusted": true
      },
      "cell_type": "code",
      "source": "u = 500",
      "execution_count": 44,
      "outputs": []
    },
    {
      "metadata": {
        "trusted": true
      },
      "cell_type": "code",
      "source": "plt.figure(figsize=(12,7))\nplt.plot(xvals, ss.norm(500, sd_a).pdf(xvals), label=\"MSFT only\")\nplt.plot(xvals, ss.norm(500, sd_b).pdf(xvals), label=\"corr 0\")\nplt.plot(xvals, ss.norm(500, sd_c).pdf(xvals), label=\"corr 0.6\")\nplt.plot(xvals, ss.norm(500, sd_d).pdf(xvals), label=\"corr -0.6\")\nplt.plot(xvals, ss.norm(500, sd_e).pdf(xvals), label=\"corr 1\")\nplt.plot(xvals, ss.norm(500, sd_f).pdf(xvals), label=\"corr -1\")\nplt.legend()",
      "execution_count": 52,
      "outputs": [
        {
          "output_type": "execute_result",
          "execution_count": 52,
          "data": {
            "text/plain": "<matplotlib.legend.Legend at 0x7fa817dd2e10>"
          },
          "metadata": {}
        },
        {
          "output_type": "display_data",
          "data": {
            "image/png": "[encoded data removed]",
            "text/plain": "<Figure size 864x504 with 1 Axes>"
          },
          "metadata": {
            "needs_background": "light"
          }
        }
      ]
    },
    {
      "metadata": {},
      "cell_type": "markdown",
      "source": "What general tips would you suggest for constructing a portfolio of securities? Is it possible to construct a portfolio with zero standard deviation? If so, how? If not, why not?"
    },
    {
      "metadata": {},
      "cell_type": "markdown",
      "source": "It is important to create a sufficiently diversified portfolio of contrary-movement stocks, since doing so will help you maintain a more predictable expected return as a result of reduced volatility. However, it is not possible to create a perfectly 0 standard deviation portfolio since asset classes do not move perfectly with negative correlation and even if you were able to find these asset classes at any given point in time, it is very unlikely that their volatility and hence covariance will remain perfectly -1 over time "
    },
    {
      "metadata": {
        "trusted": true
      },
      "cell_type": "code",
      "source": "",
      "execution_count": null,
      "outputs": []
    }
  ],
  "metadata": {
    "kernelspec": {
      "name": "python36",
      "display_name": "Python 3.6",
      "language": "python"
    },
    "language_info": {
      "mimetype": "text/x-python",
      "nbconvert_exporter": "python",
      "name": "python",
      "pygments_lexer": "ipython3",
      "version": "3.6.6",
      "file_extension": ".py",
      "codemirror_mode": {
        "version": 3,
        "name": "ipython"
      }
    }
  },
  "nbformat": 4,
  "nbformat_minor": 2
}