{
 "cells": [
  {
   "cell_type": "code",
   "execution_count": 1,
   "metadata": {},
   "outputs": [],
   "source": [
    "import math\n",
    "import random\n",
    "import pandas as pd\n",
    "import numpy as np\n",
    "import scipy.stats as ss\n",
    "import matplotlib.pyplot as plt"
   ]
  },
  {
   "cell_type": "markdown",
   "metadata": {},
   "source": [
    "## 5.1  \n",
    "\n",
    "The Career Development Centre at INSEAD is interested in the mean μ for consultants’ starting salaries.  The population standard deviation σ  is assumed to be EUR 10,000. A random sample of size n from the relevant population of consultants is being considered. What is the probability that the sample mean (X) will be within μ ± 5000 if  \n",
    "(a) n= 36,   \n",
    "(b) n = 100? Do you need to make any assumptions for your answers?\n"
   ]
  },
  {
   "cell_type": "code",
   "execution_count": 2,
   "metadata": {},
   "outputs": [
    {
     "data": {
      "text/plain": [
       "1666.6666666666667"
      ]
     },
     "execution_count": 2,
     "metadata": {},
     "output_type": "execute_result"
    }
   ],
   "source": [
    "# a\n",
    "n = 36\n",
    "\n",
    "me_n36 = 10000/(math.sqrt(n))\n",
    "me_n36"
   ]
  },
  {
   "cell_type": "code",
   "execution_count": 3,
   "metadata": {},
   "outputs": [
    {
     "data": {
      "text/plain": [
       "3.0"
      ]
     },
     "execution_count": 3,
     "metadata": {},
     "output_type": "execute_result"
    }
   ],
   "source": [
    "5000/me_n36"
   ]
  },
  {
   "cell_type": "code",
   "execution_count": 4,
   "metadata": {},
   "outputs": [
    {
     "data": {
      "text/plain": [
       "1000.0"
      ]
     },
     "execution_count": 4,
     "metadata": {},
     "output_type": "execute_result"
    }
   ],
   "source": [
    "# b\n",
    "n = 100\n",
    "me_n100 = 10000/(math.sqrt(n))\n",
    "me_n100"
   ]
  },
  {
   "cell_type": "code",
   "execution_count": 5,
   "metadata": {},
   "outputs": [
    {
     "data": {
      "text/plain": [
       "5.0"
      ]
     },
     "execution_count": 5,
     "metadata": {},
     "output_type": "execute_result"
    }
   ],
   "source": [
    "5000/me_n100"
   ]
  },
  {
   "cell_type": "markdown",
   "metadata": {},
   "source": [
    "## 5.4   \n",
    "\n",
    "In  Exercise  5.1  above,  suppose  that  the  Career  Development  Centre takes  a  random sample of 100 consultants and finds the sample mean of their starting salaries to be EUR 150,000. Construct  a  95%  and  a  99%  confidence  interval  for  the  true  mean  of  the  starting  salaries  for  the  entire  population  of  consultants.  (Assume  the  population standard deviation to be EUR 10,000, as mentioned in Exercise 5.1.)"
   ]
  },
  {
   "cell_type": "code",
   "execution_count": 6,
   "metadata": {},
   "outputs": [
    {
     "data": {
      "text/plain": [
       "1000.0"
      ]
     },
     "execution_count": 6,
     "metadata": {},
     "output_type": "execute_result"
    }
   ],
   "source": [
    "me_n100 "
   ]
  },
  {
   "cell_type": "code",
   "execution_count": 7,
   "metadata": {},
   "outputs": [],
   "source": [
    "z95 = 1.96\n",
    "z99 = 2.575"
   ]
  },
  {
   "cell_type": "code",
   "execution_count": 8,
   "metadata": {},
   "outputs": [
    {
     "name": "stdout",
     "output_type": "stream",
     "text": [
      "At 95%, we believe the range is 148040.0 and 151960.0\n"
     ]
    }
   ],
   "source": [
    "print(f\"At 95%, we believe the range is {150000 - z95 * me_n100} and {150000 + z95 * me_n100}\")"
   ]
  },
  {
   "cell_type": "code",
   "execution_count": 9,
   "metadata": {},
   "outputs": [
    {
     "name": "stdout",
     "output_type": "stream",
     "text": [
      "At 99%, we believe the range is 147425.0 and 152575.0\n"
     ]
    }
   ],
   "source": [
    "print(f\"At 99%, we believe the range is {150000 - z99 * me_n100} and {150000 + z99 * me_n100}\")"
   ]
  },
  {
   "cell_type": "code",
   "execution_count": null,
   "metadata": {},
   "outputs": [],
   "source": []
  },
  {
   "cell_type": "markdown",
   "metadata": {},
   "source": [
    "## 6.4  \n",
    "\n",
    "An opinion poll is taken on the eve of a presidential election in a large democratic country.  1,600 registered voters are asked whom they would vote for in the election on the next day. Among those in the sample, 750 say they would vote for the conservative candidate and 850 say they would vote for the liberal candidate. Construct a 95% and a 99% confidence interval for the proportion of all registered  voters  who  would  vote  for  the  liberal  candidate,  assuming  that  the  voters’  preferences  will not change between the time the poll is taken and the election day."
   ]
  },
  {
   "cell_type": "code",
   "execution_count": 10,
   "metadata": {},
   "outputs": [],
   "source": [
    "n = 1600 \n",
    "n_cons = 750\n",
    "n_lib = 850"
   ]
  },
  {
   "cell_type": "code",
   "execution_count": 11,
   "metadata": {},
   "outputs": [
    {
     "data": {
      "text/plain": [
       "(0.46875, 0.53125)"
      ]
     },
     "execution_count": 11,
     "metadata": {},
     "output_type": "execute_result"
    }
   ],
   "source": [
    "x_cons = n_cons/n\n",
    "x_lib = n_lib/n\n",
    "\n",
    "x_cons,x_lib"
   ]
  },
  {
   "cell_type": "code",
   "execution_count": 12,
   "metadata": {},
   "outputs": [
    {
     "name": "stdout",
     "output_type": "stream",
     "text": [
      "At 95%, conservative likely voters will be 710.8766374144553 and 789.1233625855447\n",
      "At 99%, conservative likely voters will be 698.6006843582767 and 801.3993156417232\n",
      "At 95%, conservative likely proportion of voters will be 0.44429789838403455 and 0.49320210161596545\n",
      "At 99%, conservative likely proportion of voters will be 0.43662542772392293 and 0.500874572276077\n"
     ]
    }
   ],
   "source": [
    "# cons\n",
    "p = x_cons\n",
    "q = 1 - p\n",
    "\n",
    "print(f\"At 95%, conservative likely voters will be {n * (x_cons - z95 * (math.sqrt(p*q/n)))} and {n * (x_cons + z95 * (math.sqrt(p*q/n)))}\")\n",
    "print(f\"At 99%, conservative likely voters will be {n * (x_cons - z99 * (math.sqrt(p*q/n)))} and {n * (x_cons + z99 * (math.sqrt(p*q/n)))}\")\n",
    "\n",
    "print(f\"At 95%, conservative likely proportion of voters will be {(x_cons - z95 * (math.sqrt(p*q/n)))} and {(x_cons + z95 * (math.sqrt(p*q/n)))}\")\n",
    "print(f\"At 99%, conservative likely proportion of voters will be {(x_cons - z99 * (math.sqrt(p*q/n)))} and {(x_cons + z99 * (math.sqrt(p*q/n)))}\")\n"
   ]
  },
  {
   "cell_type": "code",
   "execution_count": 13,
   "metadata": {},
   "outputs": [
    {
     "name": "stdout",
     "output_type": "stream",
     "text": [
      "At 95%, liberal likely voters will be 810.8766374144553 and 889.1233625855447\n",
      "At 99%, liberal likely voters will be 798.6006843582767 and 901.3993156417232\n",
      "At 95%, liberal likely proportion of voters will be 0.5067978983840346 and 0.5557021016159654\n",
      "At 99%, liberal likely proportion ofvoters will be 0.49912542772392293 and 0.563374572276077\n"
     ]
    }
   ],
   "source": [
    "# libs\n",
    "p = x_lib\n",
    "q = 1 - p\n",
    "\n",
    "print(f\"At 95%, liberal likely voters will be {n * (x_lib - z95 * (math.sqrt(p*q/n)))} and {n * (x_lib + z95 * (math.sqrt(p*q/n)))}\")\n",
    "print(f\"At 99%, liberal likely voters will be {n * (x_lib - z99 * (math.sqrt(p*q/n)))} and {n * (x_lib + z99 * (math.sqrt(p*q/n)))}\")\n",
    "\n",
    "print(f\"At 95%, liberal likely proportion of voters will be {(x_lib - z95 * (math.sqrt(p*q/n)))} and {(x_lib + z95 * (math.sqrt(p*q/n)))}\")\n",
    "print(f\"At 99%, liberal likely proportion ofvoters will be {(x_lib - z99 * (math.sqrt(p*q/n)))} and {(x_lib + z99 * (math.sqrt(p*q/n)))}\")\n"
   ]
  },
  {
   "cell_type": "code",
   "execution_count": null,
   "metadata": {},
   "outputs": [],
   "source": []
  }
 ],
 "metadata": {
  "kernelspec": {
   "display_name": "Python 3",
   "language": "python",
   "name": "python3"
  },
  "language_info": {
   "codemirror_mode": {
    "name": "ipython",
    "version": 3
   },
   "file_extension": ".py",
   "mimetype": "text/x-python",
   "name": "python",
   "nbconvert_exporter": "python",
   "pygments_lexer": "ipython3",
   "version": "3.7.3"
  }
 },
 "nbformat": 4,
 "nbformat_minor": 2
}
