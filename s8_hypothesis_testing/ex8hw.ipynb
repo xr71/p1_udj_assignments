{
 "cells": [
  {
   "cell_type": "code",
   "execution_count": 2,
   "metadata": {},
   "outputs": [],
   "source": [
    "import pandas as pd\n",
    "import numpy as np\n",
    "import scipy.stats as ss\n",
    "import matplotlib.pyplot as plt"
   ]
  },
  {
   "cell_type": "markdown",
   "metadata": {},
   "source": [
    "### 8.2\n",
    "\n",
    "A winery is evaluating a new modified fermentation process that involves higher temperatures than its present method. Since the new procedure requires specially designed controls, it has been judged to be economical only if production batches ferment faster than the mean of 30 hours under the  present  system.  If  that  is  not  supported  by  testing,  the  present  process  will  be  continued.  The  test  will  involve  50  batches  to  be  run  under  the  modified  procedure.  The  more  serious  error  is  to  adopt the new process when it isn’t actually the faster one. \n",
    "\n",
    "The standard deviation in fermentation time is unknown. \n",
    "\n",
    "a)Express  the  null  and  the  alternative  hypotheses  in  terms  of  mean  fermentation  time  μ. Assuming α = 0.01, express the decision rule.  \n",
    "b)Suppose the sample results are X=29.5 hours and s=4.91 hours. What action should be taken?"
   ]
  },
  {
   "cell_type": "code",
   "execution_count": 4,
   "metadata": {},
   "outputs": [],
   "source": [
    "# h0 is 30 hours\n",
    "# hA is < 30 hours\n",
    "\n",
    "# at alpha = 0.01, we are looking for a critical value of a left tailed test at z = -2.33"
   ]
  },
  {
   "cell_type": "code",
   "execution_count": 5,
   "metadata": {},
   "outputs": [],
   "source": [
    "s = 4.91\n",
    "n = 50"
   ]
  },
  {
   "cell_type": "code",
   "execution_count": 8,
   "metadata": {},
   "outputs": [
    {
     "data": {
      "text/plain": [
       "-0.7200680052816166"
      ]
     },
     "execution_count": 8,
     "metadata": {},
     "output_type": "execute_result"
    }
   ],
   "source": [
    "(29.5-30) / (s/(50**0.5))"
   ]
  },
  {
   "cell_type": "code",
   "execution_count": 9,
   "metadata": {},
   "outputs": [],
   "source": [
    "# we fail to reject the null hypothesis"
   ]
  },
  {
   "cell_type": "code",
   "execution_count": 10,
   "metadata": {},
   "outputs": [],
   "source": [
    "# therefore, we should not implement the new method "
   ]
  },
  {
   "cell_type": "code",
   "execution_count": null,
   "metadata": {},
   "outputs": [],
   "source": []
  },
  {
   "cell_type": "markdown",
   "metadata": {},
   "source": [
    "### 8.5\n",
    "\n",
    "This is related to Exercise 3.2. An analyst at a top investment bank claims that she is very good at picking “winners” in the US stock market – stocks with annual returns in the top 10 percent of the population of all stocks in the US. In a recent year, the analyst had 25 winners out of her 190 stock  picks.  Is  there  sufficient  evidence  to  conclude  that  the  analyst  uses  a  strategy  that  is  more  sophisticated  than  a  blind-folded  monkey  selecting  a  portfolio  of  stocks  by  throwing  darts  at  a  Wall Street Journal listing? (A reasonable expectation would be that if a portfolio of 100 stocks is selected by a blind-folded monkey throwing darts at a Wall Street Journal listing, 10 of the stocks would be winners.) Test at α = 0.05."
   ]
  },
  {
   "cell_type": "code",
   "execution_count": 11,
   "metadata": {},
   "outputs": [],
   "source": [
    "en = 25/190"
   ]
  },
  {
   "cell_type": "code",
   "execution_count": 12,
   "metadata": {},
   "outputs": [
    {
     "data": {
      "text/plain": [
       "0.13157894736842105"
      ]
     },
     "execution_count": 12,
     "metadata": {},
     "output_type": "execute_result"
    }
   ],
   "source": [
    "en"
   ]
  },
  {
   "cell_type": "code",
   "execution_count": 13,
   "metadata": {},
   "outputs": [],
   "source": [
    "s = (en*(1-en)/190)**0.5"
   ]
  },
  {
   "cell_type": "code",
   "execution_count": 14,
   "metadata": {},
   "outputs": [
    {
     "data": {
      "text/plain": [
       "0.024523450428844563"
      ]
     },
     "execution_count": 14,
     "metadata": {},
     "output_type": "execute_result"
    }
   ],
   "source": [
    "s"
   ]
  },
  {
   "cell_type": "code",
   "execution_count": 15,
   "metadata": {},
   "outputs": [
    {
     "data": {
      "text/plain": [
       "1.287704087972783"
      ]
     },
     "execution_count": 15,
     "metadata": {},
     "output_type": "execute_result"
    }
   ],
   "source": [
    "(en - 0.10)/s"
   ]
  },
  {
   "cell_type": "code",
   "execution_count": 16,
   "metadata": {},
   "outputs": [],
   "source": [
    "# h0 = 0.1\n",
    "# hA = > 0.1\n",
    "\n",
    "# at alpha = 0.05, we want to construct right tail 5%, which is a critical z value of 1.645"
   ]
  },
  {
   "cell_type": "code",
   "execution_count": 17,
   "metadata": {},
   "outputs": [],
   "source": [
    "# 1.2877 is just under 1.645"
   ]
  },
  {
   "cell_type": "code",
   "execution_count": 18,
   "metadata": {},
   "outputs": [],
   "source": [
    "# we fail to reject the null hypothesis, and therefore, cannot conclude that the analyst is more \"skilled\" than luck"
   ]
  },
  {
   "cell_type": "code",
   "execution_count": null,
   "metadata": {},
   "outputs": [],
   "source": []
  }
 ],
 "metadata": {
  "kernelspec": {
   "display_name": "Python 3",
   "language": "python",
   "name": "python3"
  },
  "language_info": {
   "codemirror_mode": {
    "name": "ipython",
    "version": 3
   },
   "file_extension": ".py",
   "mimetype": "text/x-python",
   "name": "python",
   "nbconvert_exporter": "python",
   "pygments_lexer": "ipython3",
   "version": "3.7.3"
  }
 },
 "nbformat": 4,
 "nbformat_minor": 2
}
